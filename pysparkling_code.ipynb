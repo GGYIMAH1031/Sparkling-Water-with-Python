{
 "cells": [
  {
   "cell_type": "markdown",
   "metadata": {},
   "source": [
    "## Spark + H20 + Python   :)"
   ]
  },
  {
   "cell_type": "markdown",
   "metadata": {},
   "source": [
    "## 1. Define Spark Context"
   ]
  },
  {
   "cell_type": "code",
   "execution_count": 1,
   "metadata": {},
   "outputs": [
    {
     "data": {
      "text/html": [
       "\n",
       "        <div>\n",
       "            <p><b>SparkContext</b></p>\n",
       "\n",
       "            <p><a href=\"http://192.168.43.111:4040\">Spark UI</a></p>\n",
       "\n",
       "            <dl>\n",
       "              <dt>Version</dt>\n",
       "                <dd><code>v2.2.0</code></dd>\n",
       "              <dt>Master</dt>\n",
       "                <dd><code>local[*]</code></dd>\n",
       "              <dt>AppName</dt>\n",
       "                <dd><code>PySparkShell</code></dd>\n",
       "            </dl>\n",
       "        </div>\n",
       "        "
      ],
      "text/plain": [
       "<SparkContext master=local[*] appName=PySparkShell>"
      ]
     },
     "execution_count": 1,
     "metadata": {},
     "output_type": "execute_result"
    }
   ],
   "source": [
    "sc"
   ]
  },
  {
   "cell_type": "markdown",
   "metadata": {},
   "source": [
    "## 2. Start H2O Context"
   ]
  },
  {
   "cell_type": "code",
   "execution_count": null,
   "metadata": {
    "collapsed": true
   },
   "outputs": [],
   "source": [
    "from pysparkling import *\n",
    "hc= H2OContext(sc).start()"
   ]
  },
  {
   "cell_type": "code",
   "execution_count": null,
   "metadata": {},
   "outputs": [],
   "source": []
  },
  {
   "cell_type": "code",
   "execution_count": 7,
   "metadata": {},
   "outputs": [
    {
     "name": "stdout",
     "output_type": "stream",
     "text": [
      "\n",
      "Sparkling Water Context:\n",
      " * H2O name: sparkling-water-suyog_local-1545846805972\n",
      " * cluster size: 1\n",
      " * list of used nodes:\n",
      "  (executorId, host, port)\n",
      "  ------------------------\n",
      "  (driver,192.168.43.111,54321)\n",
      "  ------------------------\n",
      "\n",
      "  Open H2O Flow in browser: http://192.168.43.111:54321 (CMD + click in Mac OSX)\n",
      "\n",
      "    \n"
     ]
    }
   ],
   "source": [
    "from pysparkling import *\n",
    "hc = H2OContext.getOrCreate(spark)"
   ]
  },
  {
   "cell_type": "code",
   "execution_count": 8,
   "metadata": {
    "collapsed": true
   },
   "outputs": [],
   "source": [
    "#alternate way\n",
    "# from pyspark.sql import SparkSession\n",
    "# spark = SparkSession.builder.appName(\"SparklingWaterApp\").getOrCreate()\n",
    "# h2oConf = H2OConf(spark).set(\"spark.ui.enabled\", \"false\")\n",
    "# hc = H2OContext.getOrCreate(spark, conf=h2oConf)"
   ]
  },
  {
   "cell_type": "markdown",
   "metadata": {},
   "source": [
    "## 3. Define H2O Context"
   ]
  },
  {
   "cell_type": "code",
   "execution_count": 9,
   "metadata": {},
   "outputs": [
    {
     "name": "stdout",
     "output_type": "stream",
     "text": [
      "\n",
      "Sparkling Water Context:\n",
      " * H2O name: sparkling-water-suyog_local-1545846805972\n",
      " * cluster size: 1\n",
      " * list of used nodes:\n",
      "  (executorId, host, port)\n",
      "  ------------------------\n",
      "  (driver,192.168.43.111,54321)\n",
      "  ------------------------\n",
      "\n",
      "  Open H2O Flow in browser: http://192.168.43.111:54321 (CMD + click in Mac OSX)\n",
      "\n",
      "    \n"
     ]
    },
    {
     "data": {
      "text/plain": []
     },
     "execution_count": 9,
     "metadata": {},
     "output_type": "execute_result"
    }
   ],
   "source": [
    "hc"
   ]
  },
  {
   "cell_type": "markdown",
   "metadata": {
    "collapsed": true
   },
   "source": [
    "## 4. Import H2O Python library"
   ]
  },
  {
   "cell_type": "code",
   "execution_count": 10,
   "metadata": {
    "collapsed": true
   },
   "outputs": [],
   "source": [
    "import h2o"
   ]
  },
  {
   "cell_type": "markdown",
   "metadata": {},
   "source": [
    "## 5. View all available H2O Python functions"
   ]
  },
  {
   "cell_type": "code",
   "execution_count": 11,
   "metadata": {},
   "outputs": [
    {
     "data": {
      "text/plain": [
       "['H2OFrame',\n",
       " '__all__',\n",
       " '__buildinfo__',\n",
       " '__builtins__',\n",
       " '__cached__',\n",
       " '__doc__',\n",
       " '__file__',\n",
       " '__loader__',\n",
       " '__name__',\n",
       " '__package__',\n",
       " '__path__',\n",
       " '__spec__',\n",
       " '__version__',\n",
       " 'absolute_import',\n",
       " 'api',\n",
       " 'archive',\n",
       " 'as_list',\n",
       " 'assign',\n",
       " 'backend',\n",
       " 'cluster',\n",
       " 'cluster_info',\n",
       " 'cluster_status',\n",
       " 'connect',\n",
       " 'connection',\n",
       " 'create_frame',\n",
       " 'deep_copy',\n",
       " 'demo',\n",
       " 'display',\n",
       " 'division',\n",
       " 'download_all_logs',\n",
       " 'download_csv',\n",
       " 'download_pojo',\n",
       " 'enable_expr_optimizations',\n",
       " 'estimators',\n",
       " 'exceptions',\n",
       " 'export_file',\n",
       " 'expr',\n",
       " 'expr_optimizer',\n",
       " 'flow',\n",
       " 'frame',\n",
       " 'frames',\n",
       " 'get_frame',\n",
       " 'get_grid',\n",
       " 'get_model',\n",
       " 'get_timezone',\n",
       " 'grid',\n",
       " 'group_by',\n",
       " 'h2o',\n",
       " 'here',\n",
       " 'import_file',\n",
       " 'import_sql_select',\n",
       " 'import_sql_table',\n",
       " 'init',\n",
       " 'interaction',\n",
       " 'is_expr_optimizations_enabled',\n",
       " 'job',\n",
       " 'lazy_import',\n",
       " 'list_timezones',\n",
       " 'load_dataset',\n",
       " 'load_model',\n",
       " 'log_and_echo',\n",
       " 'ls',\n",
       " 'make_metrics',\n",
       " 'model',\n",
       " 'mojo_predict_csv',\n",
       " 'mojo_predict_pandas',\n",
       " 'network_test',\n",
       " 'no_progress',\n",
       " 'open',\n",
       " 'os',\n",
       " 'parse_raw',\n",
       " 'parse_setup',\n",
       " 'path',\n",
       " 'print_function',\n",
       " 'rapids',\n",
       " 'remove',\n",
       " 'remove_all',\n",
       " 'save_model',\n",
       " 'schemas',\n",
       " 'set_timezone',\n",
       " 'show_progress',\n",
       " 'shutdown',\n",
       " 'transforms',\n",
       " 'two_dim_table',\n",
       " 'unicode_literals',\n",
       " 'upload_custom_metric',\n",
       " 'upload_file',\n",
       " 'utils',\n",
       " 'zipfile']"
      ]
     },
     "execution_count": 11,
     "metadata": {},
     "output_type": "execute_result"
    }
   ],
   "source": [
    "dir(h2o)"
   ]
  },
  {
   "cell_type": "markdown",
   "metadata": {
    "collapsed": true
   },
   "source": [
    "## 6. Parse Chicago Crime dataset into H2O"
   ]
  },
  {
   "cell_type": "code",
   "execution_count": null,
   "metadata": {},
   "outputs": [],
   "source": [
    "column_type = ['Numeric','String','String','Enum','Enum','Enum','Enum','Enum','Enum','Enum','Numeric','Numeric','Numeric','Numeric','Enum','Numeric','Numeric','Numeric','Enum','Numeric','Numeric','Enum']\n",
    "f_crimes = h2o.import_file(path =\"/home/suyog/github/Sparkling-Water-with-Python/data/chicagoCrimes10k.csv\",col_types =column_type)"
   ]
  },
  {
   "cell_type": "code",
   "execution_count": null,
   "metadata": {
    "collapsed": true
   },
   "outputs": [],
   "source": [
    "print(f_crimes.shape)\n",
    "f_crimes.summary()"
   ]
  },
  {
   "cell_type": "code",
   "execution_count": null,
   "metadata": {
    "collapsed": true
   },
   "outputs": [],
   "source": []
  },
  {
   "cell_type": "code",
   "execution_count": null,
   "metadata": {
    "collapsed": true
   },
   "outputs": [],
   "source": []
  },
  {
   "cell_type": "code",
   "execution_count": null,
   "metadata": {
    "collapsed": true
   },
   "outputs": [],
   "source": []
  }
 ],
 "metadata": {
  "kernelspec": {
   "display_name": "Python 3",
   "language": "python",
   "name": "python3"
  }
 },
 "nbformat": 4,
 "nbformat_minor": 2
}
